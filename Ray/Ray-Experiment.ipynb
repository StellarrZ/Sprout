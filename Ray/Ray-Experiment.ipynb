{
 "cells": [
  {
   "cell_type": "code",
   "execution_count": 1,
   "metadata": {},
   "outputs": [],
   "source": [
    "import os"
   ]
  },
  {
   "cell_type": "code",
   "execution_count": 2,
   "metadata": {},
   "outputs": [
    {
     "name": "stdout",
     "output_type": "stream",
     "text": [
      "Collecting ray\n",
      "  Downloading ray-1.12.0-cp39-cp39-macosx_10_15_x86_64.whl (55.8 MB)\n",
      "\u001b[K     |████████████████████████████████| 55.8 MB 61.9 MB/s eta 0:00:01     |█████████████████████████▎      | 44.1 MB 16.6 MB/s eta 0:00:01\n",
      "\u001b[?25hRequirement already satisfied: numpy>=1.19.3 in /Users/pzesheng/miniconda3/lib/python3.9/site-packages (from ray) (1.22.3)\n",
      "Collecting click>=7.0\n",
      "  Using cached click-8.1.2-py3-none-any.whl (96 kB)\n",
      "Collecting grpcio<=1.43.0,>=1.28.1\n",
      "  Downloading grpcio-1.43.0-cp39-cp39-macosx_10_10_x86_64.whl (4.2 MB)\n",
      "\u001b[K     |████████████████████████████████| 4.2 MB 51.8 MB/s eta 0:00:01\n",
      "\u001b[?25hRequirement already satisfied: requests in /Users/pzesheng/miniconda3/lib/python3.9/site-packages (from ray) (2.27.1)\n",
      "Collecting filelock\n",
      "  Using cached filelock-3.6.0-py3-none-any.whl (10.0 kB)\n",
      "Collecting jsonschema\n",
      "  Using cached jsonschema-4.4.0-py3-none-any.whl (72 kB)\n",
      "Collecting frozenlist\n",
      "  Downloading frozenlist-1.3.0-cp39-cp39-macosx_10_9_x86_64.whl (36 kB)\n",
      "Collecting msgpack<2.0.0,>=1.0.0\n",
      "  Downloading msgpack-1.0.3-cp39-cp39-macosx_10_9_x86_64.whl (75 kB)\n",
      "\u001b[K     |████████████████████████████████| 75 kB 12.2 MB/s eta 0:00:01\n",
      "\u001b[?25hCollecting attrs\n",
      "  Using cached attrs-21.4.0-py2.py3-none-any.whl (60 kB)\n",
      "Collecting virtualenv\n",
      "  Using cached virtualenv-20.14.1-py2.py3-none-any.whl (8.8 MB)\n",
      "Collecting aiosignal\n",
      "  Using cached aiosignal-1.2.0-py3-none-any.whl (8.2 kB)\n",
      "Collecting pyyaml\n",
      "  Downloading PyYAML-6.0-cp39-cp39-macosx_10_9_x86_64.whl (197 kB)\n",
      "\u001b[K     |████████████████████████████████| 197 kB 78.3 MB/s eta 0:00:01\n",
      "\u001b[?25hCollecting protobuf>=3.15.3\n",
      "  Downloading protobuf-3.20.1-cp39-cp39-macosx_10_9_x86_64.whl (962 kB)\n",
      "\u001b[K     |████████████████████████████████| 962 kB 43.7 MB/s eta 0:00:01\n",
      "\u001b[?25hRequirement already satisfied: six>=1.5.2 in /Users/pzesheng/miniconda3/lib/python3.9/site-packages (from grpcio<=1.43.0,>=1.28.1->ray) (1.16.0)\n",
      "Collecting pyrsistent!=0.17.0,!=0.17.1,!=0.17.2,>=0.14.0\n",
      "  Downloading pyrsistent-0.18.1-cp39-cp39-macosx_10_9_universal2.whl (81 kB)\n",
      "\u001b[K     |████████████████████████████████| 81 kB 24.2 MB/s eta 0:00:01\n",
      "\u001b[?25hRequirement already satisfied: idna<4,>=2.5 in /Users/pzesheng/miniconda3/lib/python3.9/site-packages (from requests->ray) (3.3)\n",
      "Requirement already satisfied: certifi>=2017.4.17 in /Users/pzesheng/miniconda3/lib/python3.9/site-packages (from requests->ray) (2021.10.8)\n",
      "Requirement already satisfied: urllib3<1.27,>=1.21.1 in /Users/pzesheng/miniconda3/lib/python3.9/site-packages (from requests->ray) (1.26.7)\n",
      "Requirement already satisfied: charset-normalizer~=2.0.0 in /Users/pzesheng/miniconda3/lib/python3.9/site-packages (from requests->ray) (2.0.4)\n",
      "Collecting distlib<1,>=0.3.1\n",
      "  Using cached distlib-0.3.4-py2.py3-none-any.whl (461 kB)\n",
      "Collecting platformdirs<3,>=2\n",
      "  Using cached platformdirs-2.5.2-py3-none-any.whl (14 kB)\n",
      "Installing collected packages: pyrsistent, platformdirs, frozenlist, filelock, distlib, attrs, virtualenv, pyyaml, protobuf, msgpack, jsonschema, grpcio, click, aiosignal, ray\n",
      "Successfully installed aiosignal-1.2.0 attrs-21.4.0 click-8.1.2 distlib-0.3.4 filelock-3.6.0 frozenlist-1.3.0 grpcio-1.43.0 jsonschema-4.4.0 msgpack-1.0.3 platformdirs-2.5.2 protobuf-3.20.1 pyrsistent-0.18.1 pyyaml-6.0 ray-1.12.0 virtualenv-20.14.1\n"
     ]
    }
   ],
   "source": [
    "!pip install ray"
   ]
  },
  {
   "cell_type": "code",
   "execution_count": 3,
   "metadata": {},
   "outputs": [],
   "source": [
    "import ray"
   ]
  },
  {
   "cell_type": "code",
   "execution_count": 4,
   "metadata": {},
   "outputs": [
    {
     "data": {
      "text/plain": [
       "RayContext(dashboard_url='', python_version='3.9.7', ray_version='1.12.0', ray_commit='f18fc31c7562990955556899090f8e8656b48d2d', address_info={'node_ip_address': '127.0.0.1', 'raylet_ip_address': '127.0.0.1', 'redis_address': None, 'object_store_address': '/tmp/ray/session_2022-04-27_14-05-13_301878_38934/sockets/plasma_store', 'raylet_socket_name': '/tmp/ray/session_2022-04-27_14-05-13_301878_38934/sockets/raylet', 'webui_url': '', 'session_dir': '/tmp/ray/session_2022-04-27_14-05-13_301878_38934', 'metrics_export_port': 61893, 'gcs_address': '127.0.0.1:59499', 'address': '127.0.0.1:59499', 'node_id': '290182ee60c7030bb58705cae9a6f0f157d73f0ae16e29e2e9370ed8'})"
      ]
     },
     "execution_count": 4,
     "metadata": {},
     "output_type": "execute_result"
    }
   ],
   "source": [
    "ray.init()"
   ]
  },
  {
   "cell_type": "code",
   "execution_count": 5,
   "metadata": {},
   "outputs": [
    {
     "name": "stdout",
     "output_type": "stream",
     "text": [
      "[0, 1, 4, 9]\n"
     ]
    }
   ],
   "source": [
    "@ray.remote\n",
    "def f(x):\n",
    "    return x * x\n",
    "\n",
    "futures = [f.remote(i) for i in range(4)]\n",
    "print(ray.get(futures))"
   ]
  },
  {
   "cell_type": "code",
   "execution_count": 9,
   "metadata": {},
   "outputs": [
    {
     "name": "stdout",
     "output_type": "stream",
     "text": [
      "[Actor(Counter, 070e450a880e60d4850fcb1901000000), Actor(Counter, 632b38b270ea75d4809c152d01000000), Actor(Counter, 90f1fa98a864eeeaa86cf16701000000), Actor(Counter, fa62aaeb7ac95b3bd5b3650a01000000)]\n",
      "[1, 1, 1, 1]\n"
     ]
    }
   ],
   "source": [
    "@ray.remote\n",
    "class Counter(object):\n",
    "    def __init__(self):\n",
    "        self.n = 0\n",
    "\n",
    "    def increment(self):\n",
    "        self.n += 1\n",
    "\n",
    "    def read(self):\n",
    "        return self.n\n",
    "\n",
    "counters = [Counter.remote() for i in range(4)]\n",
    "print(counters)\n",
    "[c.increment.remote() for c in counters]\n",
    "futures = [c.read.remote() for c in counters]\n",
    "print(ray.get(futures))"
   ]
  },
  {
   "cell_type": "code",
   "execution_count": 20,
   "metadata": {},
   "outputs": [
    {
     "name": "stdout",
     "output_type": "stream",
     "text": [
      "<class 'ray._raylet.ObjectRef'>\n",
      "[73023, 73014, 72992, 72737]\n"
     ]
    }
   ],
   "source": [
    "@ray.remote\n",
    "def get_pid():\n",
    "    return os.getpid()\n",
    "\n",
    "futures = [get_pid.remote() for i in range(4)]\n",
    "print(type(futures[0]))\n",
    "print(ray.get(futures))"
   ]
  },
  {
   "cell_type": "code",
   "execution_count": null,
   "metadata": {},
   "outputs": [],
   "source": []
  }
 ],
 "metadata": {
  "interpreter": {
   "hash": "31f2aee4e71d21fbe5cf8b01ff0e069b9275f58929596ceb00d14d90e3e16cd6"
  },
  "kernelspec": {
   "display_name": "Python 3.8.9 64-bit",
   "language": "python",
   "name": "python3"
  },
  "language_info": {
   "codemirror_mode": {
    "name": "ipython",
    "version": 3
   },
   "file_extension": ".py",
   "mimetype": "text/x-python",
   "name": "python",
   "nbconvert_exporter": "python",
   "pygments_lexer": "ipython3",
   "version": "3.9.7"
  },
  "orig_nbformat": 4
 },
 "nbformat": 4,
 "nbformat_minor": 2
}
